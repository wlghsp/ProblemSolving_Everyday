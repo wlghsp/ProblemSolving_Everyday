{
 "cells": [
  {
   "cell_type": "markdown",
   "metadata": {},
   "source": [
    "# Big-O 문제"
   ]
  },
  {
   "cell_type": "markdown",
   "metadata": {},
   "source": [
    "다음 Big-O를 작은 순서부터 답하시오.  \n",
    "A. $O(logN)$  \n",
    "B. $O(1)$  \n",
    "C. $O(NlogN)$  \n",
    "D. $O(2^N)$  \n",
    "E. $O(N)$  \n",
    "F. $O(N^2)$  "
   ]
  },
  {
   "cell_type": "markdown",
   "metadata": {},
   "source": [
    "B, A, E, C, F, D"
   ]
  },
  {
   "cell_type": "code",
   "execution_count": 3,
   "metadata": {},
   "outputs": [
    {
     "name": "stdout",
     "output_type": "stream",
     "text": [
      "1 0\n",
      "2 0\n",
      "2 1\n",
      "3 0\n",
      "3 1\n",
      "3 2\n"
     ]
    }
   ],
   "source": [
    "N = 4\n",
    "\n",
    "for i in range(N):\n",
    "  for j in range(i):\n",
    "    print(i, j)\n",
    "\n",
    "# 출력값은?"
   ]
  },
  {
   "cell_type": "markdown",
   "metadata": {},
   "source": [
    "1 0  \n",
    "2 0  \n",
    "2 1  \n",
    "3 0  \n",
    "3 1  \n",
    "3 2"
   ]
  },
  {
   "cell_type": "code",
   "execution_count": null,
   "metadata": {},
   "outputs": [],
   "source": [
    "N = 10\n",
    "\n",
    "for i in range(N):\n",
    "  j = 1\n",
    "  while j < i:\n",
    "    j *= 2\n",
    "    print(j, i)\n",
    "\n",
    "# 출력값은?"
   ]
  },
  {
   "cell_type": "markdown",
   "metadata": {},
   "source": [
    "2 2  \n",
    "2 3  \n",
    "4 3  \n",
    "2 4  \n",
    "4 4  \n",
    "2 5  \n",
    "4 5  \n",
    "8 5  \n",
    "2 6  \n",
    "4 6  \n",
    "8 6  \n",
    "2 7  \n",
    "4 7  \n",
    "8 7  \n",
    "2 8  \n",
    "4 8  \n",
    "8 8  \n",
    "2 9  \n",
    "4 9  \n",
    "8 9  \n",
    "16 9"
   ]
  },
  {
   "cell_type": "code",
   "execution_count": 6,
   "metadata": {},
   "outputs": [
    {
     "name": "stdout",
     "output_type": "stream",
     "text": [
      "100\n"
     ]
    }
   ],
   "source": [
    "N = 10\n",
    "n = 0\n",
    "\n",
    "for i in range(N):\n",
    "  for j in range(N):\n",
    "    n+=1\n",
    "\n",
    "print(n)\n",
    "# 출력값은?"
   ]
  },
  {
   "cell_type": "markdown",
   "metadata": {},
   "source": [
    "100"
   ]
  },
  {
   "cell_type": "code",
   "execution_count": 7,
   "metadata": {},
   "outputs": [
    {
     "name": "stdout",
     "output_type": "stream",
     "text": [
      "25\n"
     ]
    }
   ],
   "source": [
    "N = 10\n",
    "n = 0\n",
    "\n",
    "for i in range(N):\n",
    "  j = 1\n",
    "  while j <= i:\n",
    "    j *= 2\n",
    "    n+=1\n",
    "\n",
    "print(n)\n",
    "# 출력값은?"
   ]
  },
  {
   "cell_type": "markdown",
   "metadata": {},
   "source": [
    "j = 1, i = 0  \n",
    "j = 1, i = 1, j = 2, n = 1  \n",
    "j = 1, i = 2, j = 2, n = 2  \n",
    "j = 2, i = 2, j = 4, n = 3  \n",
    "j = 1, i = 3, j = 2, n = 4  \n",
    "j = 2, i = 3, j = 4, n = 5  \n",
    "j = 1, i = 4, j = 2, n = 6    \n",
    "j = 2, i = 4, j = 4, n = 7  \n",
    "j = 4, i = 4, j = 8, n = 8  \n",
    "j = 1, i = 5, j = 2, n = 9  \n",
    "j = 2, i = 5, j = 4, n = 10  \n",
    "j = 4, i = 5, j = 8, n = 11  \n",
    "j = 1, i = 6, j = 2, n = 12  \n",
    "j = 2, i = 6, j = 4, n = 13  \n",
    "j = 4, i = 6, j = 8, n = 14  \n",
    "j = 1, i = 7, j = 2, n = 15  \n",
    "j = 2, i = 7, j = 4, n = 16  \n",
    "j = 4, i = 7, j = 8, n = 17  \n",
    "j = 1, i = 8, j = 2, n = 18  \n",
    "j = 2, i = 8, j = 4, n = 19  \n",
    "j = 4, i = 8, j = 8, n = 20  \n",
    "j = 8, i = 8, j = 16, n = 21  \n",
    "j = 1, i = 9, j = 2, n = 22  \n",
    "j = 2, i = 9, j = 4, n = 23  \n",
    "j = 4, i = 9, j = 8, n = 24  \n",
    "j = 8, i = 9, j = 16, n = 25\n"
   ]
  },
  {
   "cell_type": "code",
   "execution_count": 8,
   "metadata": {},
   "outputs": [
    {
     "name": "stdout",
     "output_type": "stream",
     "text": [
      "30\n"
     ]
    }
   ],
   "source": [
    "N = 20\n",
    "n = 0\n",
    "\n",
    "for i in range(N):\n",
    "  if i % 2 == 0:\n",
    "    n+=1\n",
    "  elif i % 2 != 0:\n",
    "    n+=2\n",
    "\n",
    "print(n)\n",
    "# 출력값은?"
   ]
  },
  {
   "cell_type": "markdown",
   "metadata": {},
   "source": [
    "i = 0, n = 1  \n",
    "i = 1, n = 3  \n",
    "i = 2, n = 4  \n",
    "i = 3, n = 6  \n",
    "i = 4, n = 7  \n",
    "i = 5, n = 9  \n",
    "i = 6, n = 10  \n",
    "i = 7, n = 12  \n",
    "i = 8, n = 13  \n",
    "i = 9, n = 15  \n",
    "i = 10, n = 16  \n",
    "i = 11, n = 18  \n",
    "i = 12, n = 19  \n",
    "i = 13, n = 21  \n",
    "i = 14, n = 22  \n",
    "i = 15, n = 24  \n",
    "i = 16, n = 25  \n",
    "i = 17, n = 27  \n",
    "i = 18, n = 28  \n",
    "i = 19, n = 30  "
   ]
  },
  {
   "cell_type": "markdown",
   "metadata": {},
   "source": [
    "# Big-O 맞추기\n",
    "\n",
    "아래 코드의 Big-O를 맞추시오.\n",
    "- $O(1)$\n",
    "- $O(logN)$\n",
    "- $O(N)$\n",
    "- $O(NlogN)$\n",
    "- $O(N^2)$\n",
    "- $O(2^N)$"
   ]
  },
  {
   "cell_type": "code",
   "execution_count": null,
   "metadata": {},
   "outputs": [],
   "source": [
    "# 1번 문제\n",
    "def swap(lst, i, j):\n",
    "  tmp = lst[i]\n",
    "  lst[i] = lst[j]\n",
    "  lst[j] = tmp"
   ]
  },
  {
   "cell_type": "markdown",
   "metadata": {},
   "source": [
    "$O(1)$"
   ]
  },
  {
   "cell_type": "code",
   "execution_count": null,
   "metadata": {},
   "outputs": [],
   "source": [
    "# 2번 문제\n",
    "def countdown(n):\n",
    "  for i in range(n, -1, -5):\n",
    "    print(i)  "
   ]
  },
  {
   "cell_type": "markdown",
   "metadata": {},
   "source": [
    "잘 모르겠음"
   ]
  },
  {
   "cell_type": "code",
   "execution_count": null,
   "metadata": {},
   "outputs": [],
   "source": [
    "# 3번 문제\n",
    "def countDigits(n):\n",
    "  count = 0\n",
    "  while n > 0:\n",
    "    n = n // 10\n",
    "    count = count + 1\n",
    "  return count"
   ]
  },
  {
   "cell_type": "markdown",
   "metadata": {},
   "source": [
    "$O(logN)$"
   ]
  },
  {
   "cell_type": "code",
   "execution_count": null,
   "metadata": {},
   "outputs": [],
   "source": [
    "# 4번 문제\n",
    "def multiplicationTable(n):\n",
    "  for i in range(1, n+1):\n",
    "    for j in range(1, n+1):\n",
    "      print(i, \"+\", j, \"=\", i*j)"
   ]
  },
  {
   "cell_type": "markdown",
   "metadata": {},
   "source": [
    "$O(N^2)$"
   ]
  },
  {
   "cell_type": "code",
   "execution_count": null,
   "metadata": {},
   "outputs": [],
   "source": [
    "# 5번 문제\n",
    "def move(start, tmp, end, num):\n",
    "  if num == 1:\n",
    "    return 1\n",
    "  else:\n",
    "    moves = 0\n",
    "    moves = moves + move(start, end, tmp, num - 1)\n",
    "    moves = moves + move(start, tmp, end, 1)\n",
    "    moves = moves + move(tmp, start, end, num - 1)\n",
    "  return moves"
   ]
  },
  {
   "cell_type": "markdown",
   "metadata": {},
   "source": [
    "$O(logN)$"
   ]
  },
  {
   "cell_type": "code",
   "execution_count": null,
   "metadata": {},
   "outputs": [],
   "source": [
    "# 6번 문제\n",
    "def countAll(lst):\n",
    "  for i in range(len(lst)):\n",
    "    count = lst.count(i)\n",
    "    print(i, \"occurs\", count, \"times\")"
   ]
  },
  {
   "cell_type": "markdown",
   "metadata": {},
   "source": [
    "$O(N^2)$"
   ]
  }
 ],
 "metadata": {
  "kernelspec": {
   "display_name": ".venv",
   "language": "python",
   "name": "python3"
  },
  "language_info": {
   "codemirror_mode": {
    "name": "ipython",
    "version": 3
   },
   "file_extension": ".py",
   "mimetype": "text/x-python",
   "name": "python",
   "nbconvert_exporter": "python",
   "pygments_lexer": "ipython3",
   "version": "3.12.6"
  }
 },
 "nbformat": 4,
 "nbformat_minor": 2
}
