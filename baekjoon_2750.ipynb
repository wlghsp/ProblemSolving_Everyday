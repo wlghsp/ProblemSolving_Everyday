{
 "cells": [
  {
   "cell_type": "code",
   "execution_count": 1,
   "source": [
    "nums = []\n",
    "n = int(input())\n",
    "for _ in range(n):\n",
    "    nums.append(int(input()))\n",
    "\n",
    "nums = sorted(nums)\n",
    "\n",
    "for num in nums:\n",
    "    print(num)\n"
   ],
   "outputs": [
    {
     "output_type": "stream",
     "name": "stdout",
     "text": [
      "1\n",
      "2\n",
      "3\n",
      "4\n",
      "5\n"
     ]
    }
   ],
   "metadata": {}
  },
  {
   "cell_type": "code",
   "execution_count": 2,
   "source": [
    "nums = set()\n",
    "n = int(input())\n",
    "for _ in range(n):\n",
    "    nums.add(int(input()))\n",
    "\n",
    "nums = sorted(nums)\n",
    "\n",
    "for num in nums:\n",
    "    print(num)"
   ],
   "outputs": [
    {
     "output_type": "stream",
     "name": "stdout",
     "text": [
      "1\n",
      "2\n",
      "3\n",
      "4\n",
      "5\n"
     ]
    }
   ],
   "metadata": {}
  },
  {
   "cell_type": "code",
   "execution_count": 6,
   "source": [
    "# 버블 정렬 \n",
    "\n",
    "\n",
    "nums = []\n",
    "n = int(input())\n",
    "for _ in range(n):\n",
    "    nums.append(int(input()))\n",
    "\n",
    "# Bubble sort\n",
    "for i in range(len(nums)):\n",
    "    for j in range(len(nums)):\n",
    "        if nums[i] < nums[j]:\n",
    "            nums[j], nums[i] = nums[i], nums[j] \n",
    "\n",
    "\n",
    "for num in nums:\n",
    "    print(num)"
   ],
   "outputs": [
    {
     "output_type": "stream",
     "name": "stdout",
     "text": [
      "1\n",
      "2\n",
      "3\n",
      "4\n",
      "5\n"
     ]
    }
   ],
   "metadata": {}
  },
  {
   "cell_type": "code",
   "execution_count": 9,
   "source": [
    "# 삽입 정렬은 정렬 범위를 1칸씩 확장해나가면서 새롭게 정렬 범위에 들어온 값을 기존 값들과 비교하여 \n",
    "# 알맞은 자리에 꼽아주는 알고리즘 \n",
    "# 바깥쪽 루프는 순방향, 안쪽 루프는 역방향으로 진행 \n",
    "\n",
    "nums = [5,2,3,4,1]\n",
    "\n",
    "def insertion_sort(arr):\n",
    "    for end in range(1, len(arr)):\n",
    "        for i in range(end, 0, -1):\n",
    "            if arr[i-1] > arr[i]:\n",
    "                arr[i-1], arr[i] = arr[i], arr[i-1]\n",
    "    return arr\n",
    "\n",
    "print(insertion_sort(nums))\n"
   ],
   "outputs": [
    {
     "output_type": "stream",
     "name": "stdout",
     "text": [
      "[1, 2, 3, 4, 5]\n"
     ]
    }
   ],
   "metadata": {}
  },
  {
   "cell_type": "code",
   "execution_count": 10,
   "source": [
    "nums = [5,2,3,4,1]\n",
    "\n",
    "def insertion_sort(arr):\n",
    "    for i in range(1, len(arr)):\n",
    "        while (i > 0) & (arr[i] < arr[i - 1]):\n",
    "            arr[i], arr[i - 1] = arr[i - 1], arr[i]\n",
    "            i -= 1\n",
    "    return arr\n",
    "\n",
    "print(insertion_sort(nums))"
   ],
   "outputs": [
    {
     "output_type": "stream",
     "name": "stdout",
     "text": [
      "[1, 2, 3, 4, 5]\n"
     ]
    }
   ],
   "metadata": {}
  },
  {
   "cell_type": "code",
   "execution_count": 11,
   "source": [
    "nums = [5,2,3,4,1]\n",
    "\n",
    "def insertion_sort(arr):\n",
    "    for end in range(1, len(arr)):\n",
    "        to_insert = arr[end]\n",
    "        i = end\n",
    "        while i >0 and arr[i-1] > to_insert:\n",
    "            arr[i] = arr[i-1]\n",
    "            i -= 1\n",
    "        arr[i] = to_insert\n",
    "    return arr\n",
    "\n",
    "print(insertion_sort(nums))"
   ],
   "outputs": [
    {
     "output_type": "stream",
     "name": "stdout",
     "text": [
      "[1, 2, 3, 4, 5]\n"
     ]
    }
   ],
   "metadata": {}
  },
  {
   "cell_type": "code",
   "execution_count": 12,
   "source": [
    "nums = [num for num in range(10)]\n",
    "nums"
   ],
   "outputs": [
    {
     "output_type": "execute_result",
     "data": {
      "text/plain": [
       "[0, 1, 2, 3, 4, 5, 6, 7, 8, 9]"
      ]
     },
     "metadata": {},
     "execution_count": 12
    }
   ],
   "metadata": {}
  },
  {
   "cell_type": "code",
   "execution_count": null,
   "source": [
    "rows = [[r * 10 + c for c in range(10)] for r in range(10)]"
   ],
   "outputs": [],
   "metadata": {}
  }
 ],
 "metadata": {
  "orig_nbformat": 4,
  "language_info": {
   "name": "python",
   "version": "3.9.2",
   "mimetype": "text/x-python",
   "codemirror_mode": {
    "name": "ipython",
    "version": 3
   },
   "pygments_lexer": "ipython3",
   "nbconvert_exporter": "python",
   "file_extension": ".py"
  },
  "kernelspec": {
   "name": "python3",
   "display_name": "Python 3.9.2 64-bit ('.venv': venv)"
  },
  "interpreter": {
   "hash": "a33f9c18af63676faf345c67621021440c3844070d364c6859f9da6d1581a43c"
  }
 },
 "nbformat": 4,
 "nbformat_minor": 2
}